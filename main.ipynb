{
 "cells": [
  {
   "cell_type": "markdown",
   "metadata": {},
   "source": [
    "### Problem 1.1: execute an SQL query using join"
   ]
  },
  {
   "cell_type": "code",
   "execution_count": 1,
   "metadata": {},
   "outputs": [
    {
     "name": "stdout",
     "output_type": "stream",
     "text": [
      "('vasia@test.ru<mailto:vasia@test.ru>', 'Vasia', 500)\r\n",
      "('vasia@test.ru<mailto:vasia@test.ru>', 'Vasia', 500)\r\n",
      "('vasia@test.ru<mailto:vasia@test.ru>', 'Vasia', 350)\r\n",
      "('vasia@test.ru<mailto:vasia@test.ru>', 'Vasia', 350)\r\n",
      "('tania@test.ru<mailto:tania@test.ru>', 'Tania', 500)\r\n",
      "('boris@test.ru<mailto:boris@test.ru>', 'Boris', 250)\r\n",
      "('boris@test.ru<mailto:boris@test.ru>', 'Boris', 350)\r\n",
      "('boris@test.ru<mailto:boris@test.ru>', 'Boris', 350)\r\n",
      "('boris@test.ru<mailto:boris@test.ru>', 'Boris', 350)\r\n",
      "('boris@test.ru<mailto:boris@test.ru>', 'Boris', 350)\r\n",
      "('boris@test.ru<mailto:boris@test.ru>', 'Boris', 500)\r\n",
      "('boris@test.ru<mailto:boris@test.ru>', 'Boris', 500)\r\n",
      "('damir@test.ru<mailto:damir@test.ru>', 'Damir', 350)\r\n"
     ]
    }
   ],
   "source": [
    "!cd ./sql_problem && python join_users_purchases.py"
   ]
  },
  {
   "cell_type": "markdown",
   "metadata": {},
   "source": [
    "### Problem 1.2: build bash script using wget"
   ]
  },
  {
   "cell_type": "code",
   "execution_count": 2,
   "metadata": {},
   "outputs": [
    {
     "name": "stdout",
     "output_type": "stream",
     "text": [
      "/app/bash_problem\n",
      "--2019-01-09 05:30:58--  https://st.tivision.ru/images/_common/_page/devices__how-to__apple__step-1.png\n",
      "Resolving st.tivision.ru (st.tivision.ru)... 91.233.219.154, 91.233.219.155\n",
      "Connecting to st.tivision.ru (st.tivision.ru)|91.233.219.154|:443... connected.\n",
      "HTTP request sent, awaiting response... 200 OK\n",
      "Length: 136929 (134K) [image/png]\n",
      "Saving to: ‘pic/devices__how-to__apple__step-1.png’\n",
      "\n",
      "devices__how-to__ap 100%[===================>] 133.72K  --.-KB/s    in 0.02s   \n",
      "\n",
      "2019-01-09 05:30:58 (6.05 MB/s) - ‘pic/devices__how-to__apple__step-1.png’ saved [136929/136929]\n",
      "\n",
      "--2019-01-09 05:30:58--  https://st.tivision.ru/images/_common/_page/devices__how-to__apple__step-2.png\n",
      "Reusing existing connection to st.tivision.ru:443.\n",
      "HTTP request sent, awaiting response... 200 OK\n",
      "Length: 199202 (195K) [image/png]\n",
      "Saving to: ‘pic/devices__how-to__apple__step-2.png’\n",
      "\n",
      "devices__how-to__ap 100%[===================>] 194.53K  --.-KB/s    in 0.01s   \n",
      "\n",
      "2019-01-09 05:30:58 (14.6 MB/s) - ‘pic/devices__how-to__apple__step-2.png’ saved [199202/199202]\n",
      "\n",
      "--2019-01-09 05:30:58--  https://st.tivision.ru/images/_common/_page/devices__how-to__apple__step-3.png\n",
      "Reusing existing connection to st.tivision.ru:443.\n",
      "HTTP request sent, awaiting response... 200 OK\n",
      "Length: 155339 (152K) [image/png]\n",
      "Saving to: ‘pic/devices__how-to__apple__step-3.png’\n",
      "\n",
      "devices__how-to__ap 100%[===================>] 151.70K  --.-KB/s    in 0.002s  \n",
      "\n",
      "2019-01-09 05:30:58 (61.2 MB/s) - ‘pic/devices__how-to__apple__step-3.png’ saved [155339/155339]\n",
      "\n",
      "FINISHED --2019-01-09 05:30:58--\n",
      "Total wall clock time: 0.4s\n",
      "Downloaded: 3 files, 480K in 0.04s (12.7 MB/s)\n",
      "/app\n"
     ]
    }
   ],
   "source": [
    "%cd bash_problem\n",
    "!rm -r pic\n",
    "!cat test2.txt | cut -d' ' -f3 > img_urls\n",
    "!wget -i img_urls -P pic && rm img_urls\n",
    "%cd .."
   ]
  },
  {
   "cell_type": "code",
   "execution_count": 3,
   "metadata": {},
   "outputs": [
    {
     "data": {
      "text/markdown": [
       "![title](bash_problem/pic/devices__how-to__apple__step-1.png)\n",
       "![title](bash_problem/pic/devices__how-to__apple__step-2.png)\n",
       "![title](bash_problem/pic/devices__how-to__apple__step-3.png)\n"
      ],
      "text/plain": [
       "<IPython.core.display.Markdown object>"
      ]
     },
     "metadata": {},
     "output_type": "display_data"
    }
   ],
   "source": [
    "%%markdown\n",
    "![title](bash_problem/pic/devices__how-to__apple__step-1.png)\n",
    "![title](bash_problem/pic/devices__how-to__apple__step-2.png)\n",
    "![title](bash_problem/pic/devices__how-to__apple__step-3.png)"
   ]
  },
  {
   "cell_type": "markdown",
   "metadata": {},
   "source": [
    "### Problem 1.3: test HTTP API"
   ]
  },
  {
   "cell_type": "code",
   "execution_count": 4,
   "metadata": {},
   "outputs": [
    {
     "name": "stdout",
     "output_type": "stream",
     "text": [
      "Exporting to http_api_problem/solution_description.html\n",
      " * Downloading style https://github.githubassets.com/assets/frameworks-815bad80846128500b79089e54e26457.css\n",
      " * Downloading style https://github.githubassets.com/assets/github-e13b934caa01f1fec9bfb5ab8f2d2d9d.css\n",
      " * Downloading style https://github.githubassets.com/assets/site-874797a909e340c8a24c5e1f8e5c331c.css\n",
      " * Cached all downloads in /root/.grip/cache-4.5.2\n"
     ]
    }
   ],
   "source": [
    "!grip --export http_api_problem/solution_description.md\n",
    "\n",
    "# manually open http_api_problem/solution_description.md in a current Jupyter session"
   ]
  },
  {
   "cell_type": "code",
   "execution_count": null,
   "metadata": {},
   "outputs": [],
   "source": []
  }
 ],
 "metadata": {
  "kernelspec": {
   "display_name": "Python 3",
   "language": "python",
   "name": "python3"
  },
  "language_info": {
   "codemirror_mode": {
    "name": "ipython",
    "version": 3
   },
   "file_extension": ".py",
   "mimetype": "text/x-python",
   "name": "python",
   "nbconvert_exporter": "python",
   "pygments_lexer": "ipython3",
   "version": "3.7.2"
  }
 },
 "nbformat": 4,
 "nbformat_minor": 2
}
